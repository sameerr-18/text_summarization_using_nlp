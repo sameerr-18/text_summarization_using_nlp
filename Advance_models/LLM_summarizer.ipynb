{
  "nbformat": 4,
  "nbformat_minor": 0,
  "metadata": {
    "colab": {
      "provenance": [],
      "authorship_tag": "ABX9TyONH4YwLkUlyjK5Pj5Q1CPF",
      "include_colab_link": true
    },
    "kernelspec": {
      "name": "python3",
      "display_name": "Python 3"
    },
    "language_info": {
      "name": "python"
    }
  },
  "cells": [
    {
      "cell_type": "markdown",
      "metadata": {
        "id": "view-in-github",
        "colab_type": "text"
      },
      "source": [
        "<a href=\"https://colab.research.google.com/github/springboardmentor0327/Text_Summarization_Infosys_Internship_Oct2024/blob/Sameer/LLM_summarizer.ipynb\" target=\"_parent\"><img src=\"https://colab.research.google.com/assets/colab-badge.svg\" alt=\"Open In Colab\"/></a>"
      ]
    },
    {
      "cell_type": "code",
      "execution_count": 1,
      "metadata": {
        "id": "BE5YsmR7lq9t"
      },
      "outputs": [],
      "source": [
        "from google.colab import userdata\n",
        "import os\n",
        "os.environ[\"GOOGLE_API_KEY\"] = userdata.get('GOOGLE_API_KEY')\n",
        "# os.environ[\"HUGGINGFACEHUB_API_TOKEN\"] = userdata.get('HUGGINGFACEHUB_API_TOKEN')"
      ]
    },
    {
      "cell_type": "code",
      "source": [
        "%pip install --upgrade --quiet tiktoken langchain langgraph beautifulsoup4 langchain langchain-google-genai langchain-huggingface"
      ],
      "metadata": {
        "colab": {
          "base_uri": "https://localhost:8080/"
        },
        "id": "XDOf_hvjnfx4",
        "outputId": "68b30a14-5a31-4d95-8786-3dc8fa93f9bb"
      },
      "execution_count": 2,
      "outputs": [
        {
          "output_type": "stream",
          "name": "stdout",
          "text": [
            "\u001b[2K     \u001b[90m━━━━━━━━━━━━━━━━━━━━━━━━━━━━━━━━━━━━━━━━\u001b[0m \u001b[32m50.6/50.6 kB\u001b[0m \u001b[31m314.8 kB/s\u001b[0m eta \u001b[36m0:00:00\u001b[0m\n",
            "\u001b[2K   \u001b[90m━━━━━━━━━━━━━━━━━━━━━━━━━━━━━━━━━━━━━━━━\u001b[0m \u001b[32m1.2/1.2 MB\u001b[0m \u001b[31m14.7 MB/s\u001b[0m eta \u001b[36m0:00:00\u001b[0m\n",
            "\u001b[2K   \u001b[90m━━━━━━━━━━━━━━━━━━━━━━━━━━━━━━━━━━━━━━━━\u001b[0m \u001b[32m1.0/1.0 MB\u001b[0m \u001b[31m20.3 MB/s\u001b[0m eta \u001b[36m0:00:00\u001b[0m\n",
            "\u001b[2K   \u001b[90m━━━━━━━━━━━━━━━━━━━━━━━━━━━━━━━━━━━━━━━━\u001b[0m \u001b[32m113.5/113.5 kB\u001b[0m \u001b[31m5.2 MB/s\u001b[0m eta \u001b[36m0:00:00\u001b[0m\n",
            "\u001b[2K   \u001b[90m━━━━━━━━━━━━━━━━━━━━━━━━━━━━━━━━━━━━━━━━\u001b[0m \u001b[32m40.4/40.4 kB\u001b[0m \u001b[31m1.1 MB/s\u001b[0m eta \u001b[36m0:00:00\u001b[0m\n",
            "\u001b[2K   \u001b[90m━━━━━━━━━━━━━━━━━━━━━━━━━━━━━━━━━━━━━━━━\u001b[0m \u001b[32m408.0/408.0 kB\u001b[0m \u001b[31m8.6 MB/s\u001b[0m eta \u001b[36m0:00:00\u001b[0m\n",
            "\u001b[2K   \u001b[90m━━━━━━━━━━━━━━━━━━━━━━━━━━━━━━━━━━━━━━━━\u001b[0m \u001b[32m296.9/296.9 kB\u001b[0m \u001b[31m7.5 MB/s\u001b[0m eta \u001b[36m0:00:00\u001b[0m\n",
            "\u001b[2K   \u001b[90m━━━━━━━━━━━━━━━━━━━━━━━━━━━━━━━━━━━━━━━━\u001b[0m \u001b[32m255.8/255.8 kB\u001b[0m \u001b[31m6.4 MB/s\u001b[0m eta \u001b[36m0:00:00\u001b[0m\n",
            "\u001b[2K   \u001b[90m━━━━━━━━━━━━━━━━━━━━━━━━━━━━━━━━━━━━━━━━\u001b[0m \u001b[32m76.4/76.4 kB\u001b[0m \u001b[31m3.1 MB/s\u001b[0m eta \u001b[36m0:00:00\u001b[0m\n",
            "\u001b[2K   \u001b[90m━━━━━━━━━━━━━━━━━━━━━━━━━━━━━━━━━━━━━━━━\u001b[0m \u001b[32m78.0/78.0 kB\u001b[0m \u001b[31m4.1 MB/s\u001b[0m eta \u001b[36m0:00:00\u001b[0m\n",
            "\u001b[2K   \u001b[90m━━━━━━━━━━━━━━━━━━━━━━━━━━━━━━━━━━━━━━━━\u001b[0m \u001b[32m144.5/144.5 kB\u001b[0m \u001b[31m2.6 MB/s\u001b[0m eta \u001b[36m0:00:00\u001b[0m\n",
            "\u001b[2K   \u001b[90m━━━━━━━━━━━━━━━━━━━━━━━━━━━━━━━━━━━━━━━━\u001b[0m \u001b[32m54.5/54.5 kB\u001b[0m \u001b[31m1.5 MB/s\u001b[0m eta \u001b[36m0:00:00\u001b[0m\n",
            "\u001b[2K   \u001b[90m━━━━━━━━━━━━━━━━━━━━━━━━━━━━━━━━━━━━━━━━\u001b[0m \u001b[32m58.3/58.3 kB\u001b[0m \u001b[31m2.2 MB/s\u001b[0m eta \u001b[36m0:00:00\u001b[0m\n",
            "\u001b[?25h"
          ]
        }
      ]
    },
    {
      "cell_type": "code",
      "source": [
        "from langchain_google_genai import ChatGoogleGenerativeAI\n",
        "# from langchain_huggingface import ChatHuggingFace, HuggingFaceEndpoint\n",
        "\n",
        "def load_llm(model=\"gemini-1.5-pro\"):\n",
        "\n",
        "  if model == \"gemini-1.5-pro\":\n",
        "    llm = ChatGoogleGenerativeAI(\n",
        "        model=\"gemini-1.5-pro\",\n",
        "        temperature=0,\n",
        "        max_tokens=None,\n",
        "        timeout=None,\n",
        "        max_retries=2)\n",
        "    return llm\n",
        "  elif model == \"gemini-1.5-flash\":\n",
        "    llm = ChatGoogleGenerativeAI(\n",
        "        model=\"gemini-1.5-flash\",\n",
        "        temperature=0,\n",
        "        max_tokens=None,\n",
        "        timeout=None,\n",
        "        max_retries=2)\n",
        "    return llm\n",
        "  else:\n",
        "    raise ValueError(\"Invalid model name\")"
      ],
      "metadata": {
        "id": "iBj26REwnhyI"
      },
      "execution_count": 3,
      "outputs": []
    },
    {
      "cell_type": "code",
      "source": [
        "from langchain_core.prompts import ChatPromptTemplate\n",
        "\n",
        "def get_prompt_template():\n",
        "    # Define prompt with a strict word range instruction\n",
        "    prompt = ChatPromptTemplate.from_messages(\n",
        "        [\n",
        "            (\n",
        "                \"system\",\n",
        "                \"Write a concise summary of the following in {min_word_count} to {max_word_count} words. Stop once you reach the word limit:\\n\\n\",\n",
        "            ),\n",
        "            (\"human\", \"{context}\")\n",
        "        ]\n",
        "    )\n",
        "    return prompt\n",
        "\n",
        "def llm_model(text, max_word_count=50):\n",
        "    model=\"gemini-1.5-pro\"\n",
        "    # Set default for min_word_count if not provided\n",
        "    # if min_word_count is None:\n",
        "    min_word_count = max_word_count - 5\n",
        "\n",
        "    # Load LLM\n",
        "    llm = load_llm(model)\n",
        "\n",
        "    # Get Prompt Template\n",
        "    prompt = get_prompt_template()\n",
        "\n",
        "    # Instantiate chain\n",
        "    chain = prompt | llm\n",
        "\n",
        "    # Invoke chain with specified range\n",
        "    result = chain.invoke({\n",
        "        \"context\": text,\n",
        "        \"min_word_count\": min_word_count,\n",
        "        \"max_word_count\": max_word_count\n",
        "    })\n",
        "\n",
        "    # Process output to enforce word limit\n",
        "    output = result.content\n",
        "    words = output.split()\n",
        "\n",
        "    # If output exceeds max_word_count, truncate to max_word_count\n",
        "    if len(words) > max_word_count:\n",
        "        output = ' '.join(words[:max_word_count]) + \".\"\n",
        "\n",
        "    # Return truncated output if necessary\n",
        "    return output,(f\"\\nWord Count (Summary): {len(output.split())}\")\n"
      ],
      "metadata": {
        "id": "zwzct6r6npk2"
      },
      "execution_count": 7,
      "outputs": []
    },
    {
      "cell_type": "code",
      "source": [
        "text = '''\n",
        "Text summarization involves creating a summary of a source text using natural language processing.\n",
        "This is useful for condensing long-form text, audio, or video into a shorter, more digestible form that still conveys the main points.\n",
        "Examples include news articles, scientific papers, podcasts, speeches, lectures, and meeting recordings.\n",
        "\n",
        "There are two main types of summarization:\n",
        "\n",
        "Extractive summarization: This type identifies and extracts key phrases or sentences (i.e., excerpts) from the source text and combines them into a summary.\n",
        "It leaves the original text unchanged and only selects the important parts.\n",
        "\n",
        "Abstractive summarization: This type involves understanding the main ideas in the source text and creating a new summary that expresses those ideas in a fresh and condensed way (i.e., paraphrasing).\n",
        " It's more complex because it requires a deeper understanding of the source text and the ability to convey the same information in fewer words.\n",
        "'''\n",
        "\n",
        "# Specifcy the text and number of words\n",
        "summary = summarize_text(text, max_word_count = 50, model = \"gemini-1.5-flash\")\n",
        "\n",
        "\n",
        "print(f\"Original Text: {text}\")\n",
        "print(f\"\\n Text Length: {len(text)}\")\n",
        "print(\"=\"*100)\n",
        "print(f\"\\nSummary: {summary}\")\n",
        "print(f\"\\nSummary Length: {len(summary)}\")"
      ],
      "metadata": {
        "colab": {
          "base_uri": "https://localhost:8080/"
        },
        "id": "Npv0Snwqtq1F",
        "outputId": "92a37070-ceb4-4d04-90ca-808c90d68b1d"
      },
      "execution_count": 8,
      "outputs": [
        {
          "output_type": "stream",
          "name": "stdout",
          "text": [
            "Original Text: \n",
            "Text summarization involves creating a summary of a source text using natural language processing.\n",
            "This is useful for condensing long-form text, audio, or video into a shorter, more digestible form that still conveys the main points.\n",
            "Examples include news articles, scientific papers, podcasts, speeches, lectures, and meeting recordings.\n",
            "\n",
            "There are two main types of summarization:\n",
            "\n",
            "Extractive summarization: This type identifies and extracts key phrases or sentences (i.e., excerpts) from the source text and combines them into a summary.\n",
            "It leaves the original text unchanged and only selects the important parts.\n",
            "\n",
            "Abstractive summarization: This type involves understanding the main ideas in the source text and creating a new summary that expresses those ideas in a fresh and condensed way (i.e., paraphrasing).\n",
            " It's more complex because it requires a deeper understanding of the source text and the ability to convey the same information in fewer words.\n",
            "\n",
            "\n",
            " Text Length: 962\n",
            "====================================================================================================\n",
            "\n",
            "Summary: Text summarization uses natural language processing to condense long texts into shorter summaries. Extractive summarization extracts key phrases or sentences, while abstractive summarization paraphrases the main ideas, requiring a deeper understanding of the source text. \n",
            "\n",
            "\n",
            "Summary Length: 273\n"
          ]
        }
      ]
    }
  ]
}
