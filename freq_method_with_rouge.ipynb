{
  "nbformat": 4,
  "nbformat_minor": 0,
  "metadata": {
    "colab": {
      "provenance": [],
      "authorship_tag": "ABX9TyOajtdgI2IwjwLIX7RHUCD4",
      "include_colab_link": true
    },
    "kernelspec": {
      "name": "python3",
      "display_name": "Python 3"
    },
    "language_info": {
      "name": "python"
    }
  },
  "cells": [
    {
      "cell_type": "markdown",
      "metadata": {
        "id": "view-in-github",
        "colab_type": "text"
      },
      "source": [
        "<a href=\"https://colab.research.google.com/github/springboardmentor0327/Text_Summarization_Infosys_Internship_Oct2024/blob/Sameer/freq_method_with_rouge.ipynb\" target=\"_parent\"><img src=\"https://colab.research.google.com/assets/colab-badge.svg\" alt=\"Open In Colab\"/></a>"
      ]
    },
    {
      "cell_type": "code",
      "source": [
        "!pip install rouge-score"
      ],
      "metadata": {
        "colab": {
          "base_uri": "https://localhost:8080/"
        },
        "id": "pEoodYLq4_RP",
        "outputId": "5e54272d-2060-4391-dd0e-c0a6b8ff205a"
      },
      "execution_count": null,
      "outputs": [
        {
          "output_type": "stream",
          "name": "stdout",
          "text": [
            "Collecting rouge-score\n",
            "  Downloading rouge_score-0.1.2.tar.gz (17 kB)\n",
            "  Preparing metadata (setup.py) ... \u001b[?25l\u001b[?25hdone\n",
            "Requirement already satisfied: absl-py in /usr/local/lib/python3.10/dist-packages (from rouge-score) (1.4.0)\n",
            "Requirement already satisfied: nltk in /usr/local/lib/python3.10/dist-packages (from rouge-score) (3.8.1)\n",
            "Requirement already satisfied: numpy in /usr/local/lib/python3.10/dist-packages (from rouge-score) (1.26.4)\n",
            "Requirement already satisfied: six>=1.14.0 in /usr/local/lib/python3.10/dist-packages (from rouge-score) (1.16.0)\n",
            "Requirement already satisfied: click in /usr/local/lib/python3.10/dist-packages (from nltk->rouge-score) (8.1.7)\n",
            "Requirement already satisfied: joblib in /usr/local/lib/python3.10/dist-packages (from nltk->rouge-score) (1.4.2)\n",
            "Requirement already satisfied: regex>=2021.8.3 in /usr/local/lib/python3.10/dist-packages (from nltk->rouge-score) (2024.9.11)\n",
            "Requirement already satisfied: tqdm in /usr/local/lib/python3.10/dist-packages (from nltk->rouge-score) (4.66.5)\n",
            "Building wheels for collected packages: rouge-score\n",
            "  Building wheel for rouge-score (setup.py) ... \u001b[?25l\u001b[?25hdone\n",
            "  Created wheel for rouge-score: filename=rouge_score-0.1.2-py3-none-any.whl size=24935 sha256=56b7256551d818b3fd4e2d3b21aea7957a2a74c757b1f0628571e15683e81e63\n",
            "  Stored in directory: /root/.cache/pip/wheels/5f/dd/89/461065a73be61a532ff8599a28e9beef17985c9e9c31e541b4\n",
            "Successfully built rouge-score\n",
            "Installing collected packages: rouge-score\n",
            "Successfully installed rouge-score-0.1.2\n"
          ]
        }
      ]
    },
    {
      "cell_type": "code",
      "source": [
        "import nltk\n",
        "from nltk.tokenize import word_tokenize, sent_tokenize\n",
        "from nltk.corpus import stopwords\n",
        "from nltk.stem import WordNetLemmatizer\n",
        "from rouge_score import rouge_scorer\n",
        "import pandas as pd"
      ],
      "metadata": {
        "id": "stEjsy1I4P5h"
      },
      "execution_count": null,
      "outputs": []
    },
    {
      "cell_type": "code",
      "source": [
        "# Download required resources\n",
        "nltk.download('punkt')\n",
        "nltk.download('stopwords')\n",
        "nltk.download('wordnet')  # For lemmatization"
      ],
      "metadata": {
        "colab": {
          "base_uri": "https://localhost:8080/"
        },
        "id": "ZPNrHwcC5mnV",
        "outputId": "ef263dcc-d4d3-42e5-ab8a-db33edac2ce7"
      },
      "execution_count": null,
      "outputs": [
        {
          "output_type": "stream",
          "name": "stderr",
          "text": [
            "[nltk_data] Downloading package punkt to /root/nltk_data...\n",
            "[nltk_data]   Unzipping tokenizers/punkt.zip.\n",
            "[nltk_data] Downloading package stopwords to /root/nltk_data...\n",
            "[nltk_data]   Unzipping corpora/stopwords.zip.\n",
            "[nltk_data] Downloading package wordnet to /root/nltk_data...\n"
          ]
        },
        {
          "output_type": "execute_result",
          "data": {
            "text/plain": [
              "True"
            ]
          },
          "metadata": {},
          "execution_count": 6
        }
      ]
    },
    {
      "cell_type": "code",
      "source": [
        "text='''\n",
        "\n",
        "Ad sales boost Time Warner profit\n",
        "\n",
        "Quarterly profits at US media giant TimeWarner jumped 76% to $1.13bn (£600m) for the three months to December, from $639m year-earlier.\n",
        "\n",
        "The firm, which is now one of the biggest investors in Google, benefited from sales of high-speed internet connections and higher advert sales. TimeWarner said fourth quarter sales rose 2% to $11.1bn from $10.9bn. Its profits were buoyed by one-off gains which offset a profit dip at Warner Bros, and less users for AOL.\n",
        "\n",
        "Time Warner said on Friday that it now owns 8% of search-engine Google. But its own internet business, AOL, had has mixed fortunes. It lost 464,000 subscribers in the fourth quarter profits were lower than in the preceding three quarters. However, the company said AOL's underlying profit before exceptional items rose 8% on the back of stronger internet advertising revenues. It hopes to increase subscribers by offering the online service free to TimeWarner internet customers and will try to sign up AOL's existing customers for high-speed broadband. TimeWarner also has to restate 2000 and 2003 results following a probe by the US Securities Exchange Commission (SEC), which is close to concluding.\n",
        "\n",
        "Time Warner's fourth quarter profits were slightly better than analysts' expectations. But its film division saw profits slump 27% to $284m, helped by box-office flops Alexander and Catwoman, a sharp contrast to year-earlier, when the third and final film in the Lord of the Rings trilogy boosted results. For the full-year, TimeWarner posted a profit of $3.36bn, up 27% from its 2003 performance, while revenues grew 6.4% to $42.09bn. \"Our financial performance was strong, meeting or exceeding all of our full-year objectives and greatly enhancing our flexibility,\" chairman and chief executive Richard Parsons said. For 2005, TimeWarner is projecting operating earnings growth of around 5%, and also expects higher revenue and wider profit margins.\n",
        "\n",
        "TimeWarner is to restate its accounts as part of efforts to resolve an inquiry into AOL by US market regulators. It has already offered to pay $300m to settle charges, in a deal that is under review by the SEC. The company said it was unable to estimate the amount it needed to set aside for legal reserves, which it previously set at $500m. It intends to adjust the way it accounts for a deal with German music publisher Bertelsmann's purchase of a stake in AOL Europe, which it had reported as advertising revenue. It will now book the sale of its stake in AOL Europe as a loss on the value of that stake.\n",
        "\n",
        "\n",
        "'''"
      ],
      "metadata": {
        "id": "epaBwHaBA9gu"
      },
      "execution_count": null,
      "outputs": []
    },
    {
      "cell_type": "code",
      "source": [
        "def solve(text, max_words=30):\n",
        "    # Load English stopwords\n",
        "    stopwords1 = set(stopwords.words(\"english\"))\n",
        "\n",
        "    # Tokenize text into words\n",
        "    words = word_tokenize(text)\n",
        "\n",
        "    # Create a frequency table for words (ignoring stopwords)\n",
        "    freqTable = {word.lower(): words.count(word.lower()) for word in words if word.lower() not in stopwords1}\n",
        "\n",
        "    # Tokenize text into sentences\n",
        "    sentences = sent_tokenize(text)\n",
        "\n",
        "    # Create a sentence value dictionary and sentence score\n",
        "    sentenceValue = {}\n",
        "    for sentence in sentences:\n",
        "        for word, freq in freqTable.items():\n",
        "            if word in sentence.lower():\n",
        "                sentenceValue[sentence] = sentenceValue.get(sentence, 0) + freq\n",
        "\n",
        "    # Calculate the sum of sentence values\n",
        "    sumValues = sum(sentenceValue.values())\n",
        "\n",
        "    # Calculate the average sentence value\n",
        "    average = int(sumValues / len(sentenceValue))\n",
        "\n",
        "    # Generate the summary with max and min word constraints\n",
        "    summary_sentences = []\n",
        "    current_word_count = 0\n",
        "    min_words = max_words - 10  # Default minimum words limit\n",
        "\n",
        "    for sentence in sentences:\n",
        "        if sentenceValue.get(sentence, 0) > (1.2 * average):\n",
        "            sentence_word_count = len(word_tokenize(sentence))\n",
        "            if min_words <= current_word_count + sentence_word_count <= max_words:\n",
        "                summary_sentences.append(sentence)\n",
        "                current_word_count += sentence_word_count\n",
        "\n",
        "    summary = ' '.join(summary_sentences)\n",
        "    return summary\n",
        "\n",
        "# Calculate and print word count before and after summarization\n",
        "original_word_count = len(word_tokenize(text))\n",
        "summary_text = solve(text,max_words=40)\n",
        "summary_word_count = len(word_tokenize(summary_text))\n",
        "\n",
        "print('Original Text:')\n",
        "print(text)\n",
        "print(f\"\\nWord Count (Original): {original_word_count}\\n\")\n",
        "\n",
        "print(\"Summary of Text:\\n\")\n",
        "print(summary_text)\n",
        "print(f\"\\nWord Count (Summary): {summary_word_count}\")\n"
      ],
      "metadata": {
        "colab": {
          "base_uri": "https://localhost:8080/"
        },
        "id": "NOAF707f7oxx",
        "outputId": "bf12956d-120f-4e14-f33f-89a9e3bd6243"
      },
      "execution_count": null,
      "outputs": [
        {
          "output_type": "stream",
          "name": "stdout",
          "text": [
            "Original Text:\n",
            "\n",
            "\n",
            "Ad sales boost Time Warner profit\n",
            "\n",
            "Quarterly profits at US media giant TimeWarner jumped 76% to $1.13bn (£600m) for the three months to December, from $639m year-earlier.\n",
            "\n",
            "The firm, which is now one of the biggest investors in Google, benefited from sales of high-speed internet connections and higher advert sales. TimeWarner said fourth quarter sales rose 2% to $11.1bn from $10.9bn. Its profits were buoyed by one-off gains which offset a profit dip at Warner Bros, and less users for AOL.\n",
            "\n",
            "Time Warner said on Friday that it now owns 8% of search-engine Google. But its own internet business, AOL, had has mixed fortunes. It lost 464,000 subscribers in the fourth quarter profits were lower than in the preceding three quarters. However, the company said AOL's underlying profit before exceptional items rose 8% on the back of stronger internet advertising revenues. It hopes to increase subscribers by offering the online service free to TimeWarner internet customers and will try to sign up AOL's existing customers for high-speed broadband. TimeWarner also has to restate 2000 and 2003 results following a probe by the US Securities Exchange Commission (SEC), which is close to concluding.\n",
            "\n",
            "Time Warner's fourth quarter profits were slightly better than analysts' expectations. But its film division saw profits slump 27% to $284m, helped by box-office flops Alexander and Catwoman, a sharp contrast to year-earlier, when the third and final film in the Lord of the Rings trilogy boosted results. For the full-year, TimeWarner posted a profit of $3.36bn, up 27% from its 2003 performance, while revenues grew 6.4% to $42.09bn. \"Our financial performance was strong, meeting or exceeding all of our full-year objectives and greatly enhancing our flexibility,\" chairman and chief executive Richard Parsons said. For 2005, TimeWarner is projecting operating earnings growth of around 5%, and also expects higher revenue and wider profit margins.\n",
            "\n",
            "TimeWarner is to restate its accounts as part of efforts to resolve an inquiry into AOL by US market regulators. It has already offered to pay $300m to settle charges, in a deal that is under review by the SEC. The company said it was unable to estimate the amount it needed to set aside for legal reserves, which it previously set at $500m. It intends to adjust the way it accounts for a deal with German music publisher Bertelsmann's purchase of a stake in AOL Europe, which it had reported as advertising revenue. It will now book the sale of its stake in AOL Europe as a loss on the value of that stake.\n",
            "\n",
            "\n",
            "\n",
            "\n",
            "Word Count (Original): 490\n",
            "\n",
            "Summary of Text:\n",
            "\n",
            "\n",
            "\n",
            "Ad sales boost Time Warner profit\n",
            "\n",
            "Quarterly profits at US media giant TimeWarner jumped 76% to $1.13bn (£600m) for the three months to December, from $639m year-earlier.\n",
            "\n",
            "Word Count (Summary): 34\n"
          ]
        }
      ]
    },
    {
      "cell_type": "markdown",
      "source": [
        "**ROUGE** Module\n"
      ],
      "metadata": {
        "id": "kz9iWxD0E9W9"
      }
    },
    {
      "cell_type": "code",
      "execution_count": null,
      "metadata": {
        "colab": {
          "base_uri": "https://localhost:8080/"
        },
        "id": "glF3noj84JVs",
        "outputId": "882e147f-5676-4b59-c7dd-3a2df2e9fef8"
      },
      "outputs": [
        {
          "output_type": "stream",
          "name": "stdout",
          "text": [
            "Original Text:\n",
            "\n",
            "Samsung was founded by Lee Byung-chul in 1938 as a trading company. Over the next three decades, the group diversified into areas including food processing, textiles, insurance, securities, and retail. Samsung entered the electronics industry in the late 1960s and the construction and shipbuilding industries in the mid-1970s; these areas would drive its subsequent growth. Following Lee's death in 1987, Samsung was separated into five business groups – Samsung Group, Shinsegae Group, CJ Group, Hansol Group, and JoongAng Group.\n",
            "\n",
            "\n",
            "Summary of Text:\n",
            "\n",
            "Generated Summary:\n",
            "Following Lee's death in 1987, Samsung was separated into five business groups – Samsung Group, Shinsegae Group, CJ Group, Hansol Group, and JoongAng Group.\n",
            "\n",
            "ROUGE-1: 0.5091\n",
            "ROUGE-2: 0.3396\n",
            "ROUGE-L: 0.4000\n"
          ]
        },
        {
          "output_type": "execute_result",
          "data": {
            "text/plain": [
              "{'rouge1': Score(precision=0.5833333333333334, recall=0.45161290322580644, fmeasure=0.509090909090909),\n",
              " 'rouge2': Score(precision=0.391304347826087, recall=0.3, fmeasure=0.33962264150943394),\n",
              " 'rougeL': Score(precision=0.4583333333333333, recall=0.3548387096774194, fmeasure=0.39999999999999997)}"
            ]
          },
          "metadata": {},
          "execution_count": 7
        }
      ],
      "source": [
        "def solve(text, threshold=1.2):\n",
        "    # Initialize stopwords, lemmatizer, and tokenizer\n",
        "    stopwords_set = set(stopwords.words(\"english\"))\n",
        "    lemmatizer = WordNetLemmatizer()\n",
        "\n",
        "    # Tokenize text into words\n",
        "    words = word_tokenize(text)\n",
        "\n",
        "    # Lemmatize words and filter out stopwords\n",
        "    lemmatized_words = [lemmatizer.lemmatize(word.lower()) for word in words if word.lower() not in stopwords_set and word.isalnum()]\n",
        "\n",
        "    # Create a frequency table for lemmatized words\n",
        "    freq_table = {word: lemmatized_words.count(word) for word in lemmatized_words}\n",
        "\n",
        "    # Tokenize text into sentences\n",
        "    sentences = sent_tokenize(text)\n",
        "\n",
        "    # Create a sentence value dictionary to score sentences\n",
        "    sentence_value = {}\n",
        "    for sentence in sentences:\n",
        "        for word, freq in freq_table.items():\n",
        "            if word in sentence.lower():\n",
        "                sentence_value[sentence] = sentence_value.get(sentence, 0) + freq\n",
        "\n",
        "    # Calculate the sum of sentence values\n",
        "    sum_values = sum(sentence_value.values())\n",
        "\n",
        "    # Calculate the average sentence value\n",
        "    average = int(sum_values / len(sentence_value)) if len(sentence_value) > 0 else 0\n",
        "\n",
        "    # Generate the summary based on the threshold\n",
        "    summary = ' '.join([sentence for sentence in sentences if sentence_value.get(sentence, 0) > (threshold * average)])\n",
        "\n",
        "    return summary\n",
        "\n",
        "# Function to compute ROUGE scores\n",
        "def compute_rouge_scores(reference, summary):\n",
        "    scorer = rouge_scorer.RougeScorer(['rouge1', 'rouge2', 'rougeL'], use_stemmer=True)\n",
        "    scores = scorer.score(reference, summary)\n",
        "    return scores\n",
        "\n",
        "# Function to evaluate the model on the text with ROUGE metrics\n",
        "def evaluate_rouge(text, reference_summary, model_function, threshold=1.2):\n",
        "    generated_summary = model_function(text, threshold)\n",
        "    rouge_scores = compute_rouge_scores(reference_summary, generated_summary)\n",
        "\n",
        "    # Display ROUGE scores\n",
        "    print(f\"Generated Summary:\\n{generated_summary}\\n\")\n",
        "    print(f\"ROUGE-1: {rouge_scores['rouge1'].fmeasure:.4f}\")\n",
        "    print(f\"ROUGE-2: {rouge_scores['rouge2'].fmeasure:.4f}\")\n",
        "    print(f\"ROUGE-L: {rouge_scores['rougeL'].fmeasure:.4f}\")\n",
        "    return rouge_scores\n",
        "\n",
        "# Example usage\n",
        "text = '''\n",
        "Samsung was founded by Lee Byung-chul in 1938 as a trading company. Over the next three decades, the group diversified into areas including food processing, textiles, insurance, securities, and retail. Samsung entered the electronics industry in the late 1960s and the construction and shipbuilding industries in the mid-1970s; these areas would drive its subsequent growth. Following Lee's death in 1987, Samsung was separated into five business groups – Samsung Group, Shinsegae Group, CJ Group, Hansol Group, and JoongAng Group.\n",
        "'''\n",
        "\n",
        "# Assume this is the reference summary provided\n",
        "reference_summary = 'Samsung was founded in 1938 as a trading company. Samsung entered electronics in the 1960s and shipbuilding in the 1970s. Following Lee\\'s death, Samsung was separated into five business groups.'\n",
        "\n",
        "# Evaluate model and print ROUGE scores\n",
        "print('Original Text:')\n",
        "print(text)\n",
        "\n",
        "print(\"\\nSummary of Text:\\n\")\n",
        "evaluate_rouge(text, reference_summary, solve, threshold=1.2)\n"
      ]
    }
  ]
}
